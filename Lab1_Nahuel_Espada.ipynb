{
  "nbformat": 4,
  "nbformat_minor": 0,
  "metadata": {
    "colab": {
      "provenance": [],
      "authorship_tag": "ABX9TyPHeUB7ZtT/pHKxCVOYDyGa",
      "include_colab_link": true
    },
    "kernelspec": {
      "name": "python3",
      "display_name": "Python 3"
    },
    "language_info": {
      "name": "python"
    }
  },
  "cells": [
    {
      "cell_type": "markdown",
      "metadata": {
        "id": "view-in-github",
        "colab_type": "text"
      },
      "source": [
        "<a href=\"https://colab.research.google.com/github/NahuelEspa/Juego-3RayasGithub/blob/main/Lab1_Nahuel_Espada.ipynb\" target=\"_parent\"><img src=\"https://colab.research.google.com/assets/colab-badge.svg\" alt=\"Open In Colab\"/></a>"
      ]
    },
    {
      "cell_type": "code",
      "execution_count": null,
      "metadata": {
        "id": "Zeu5HEG6qaij"
      },
      "outputs": [],
      "source": [
        "import os\n",
        "import numpy as np\n",
        "from matplotlib import pyplot"
      ]
    },
    {
      "cell_type": "code",
      "source": [
        "data = np.loadtxt('ejemplo01.txt', delimiter=',')\n",
        "X, y = data[:, 0], data[:,1]\n",
        "m = y.size"
      ],
      "metadata": {
        "id": "p46Apn91tYmo"
      },
      "execution_count": null,
      "outputs": []
    },
    {
      "cell_type": "code",
      "source": [
        "def graficarDatos(x, y):\n",
        "  fig = pyplot.figure()\n",
        "  pyplot.plot(x, y, 'ro')\n",
        "  pyplot.xlabel('Grado de accion de los estudiantes')\n",
        "  pyplot.ylabel('Nivel de puntuacion de los estudiantes')"
      ],
      "metadata": {
        "id": "WPJi9iONtain"
      },
      "execution_count": null,
      "outputs": []
    },
    {
      "cell_type": "code",
      "source": [
        "graficarDatos(x, y)"
      ],
      "metadata": {
        "id": "PG7luS1AtkqP"
      },
      "execution_count": null,
      "outputs": []
    },
    {
      "cell_type": "code",
      "source": [
        "X = np.stack([np.ones(m), x], axis=1)"
      ],
      "metadata": {
        "id": "WOAIem2IuAe3"
      },
      "execution_count": null,
      "outputs": []
    },
    {
      "cell_type": "code",
      "source": [
        "def calcularPuntuacion(x, y, theta):\n",
        "  m = y.size\n",
        "  J = 100\n",
        "  h = np.dot(x, theta)\n",
        "  J = (1/(2 * m)) * np.sum(np.square(np.dot(x, theta) - y))\n",
        "  return J"
      ],
      "metadata": {
        "id": "fZ6j0kivuA4O"
      },
      "execution_count": null,
      "outputs": []
    },
    {
      "cell_type": "code",
      "source": [
        "theta=np.array([0.1, 0.2])\n",
        "JJ = calcularPuntuacion(x, y, theta)\n",
        "print(f\"con theta:{ theta } se obtiene en la puntuacion: {JJ}\")"
      ],
      "metadata": {
        "id": "81Fd71QauDE2"
      },
      "execution_count": null,
      "outputs": []
    },
    {
      "cell_type": "code",
      "source": [
        "def calcularDescensoGradiente(x, y, theta, alpha, numero_iteraciones):\n",
        "  m = y.shape[0]\n",
        "  theta = theta.copy()\n",
        "  J_historico = []\n",
        "\n",
        "  for i in range(numero_iteraciones):\n",
        "    theta = theta - (alpha / m) * (np.dot(x, theta) - y).dot(X)\n",
        "    J_historico.append(calcularCosto(X, y, theta))\n",
        "\n",
        "  return theta, J_historico"
      ],
      "metadata": {
        "id": "iPIp82C4uFBO"
      },
      "execution_count": null,
      "outputs": []
    },
    {
      "cell_type": "code",
      "source": [
        "theta = np.zeros(2)\n",
        "\n",
        "num_ite = 100000\n",
        "alpha = 0.001\n",
        "\n",
        "theta, J_historico = calcularDescensoGradiente(X, y, theta, alpha, num_ite)\n",
        "print(f\"los valores de theta calculados son: { theta }\")\n",
        "print(f\"con un costo de: { J_historico[-1]} \")"
      ],
      "metadata": {
        "id": "5TpEgYtsuHCn"
      },
      "execution_count": null,
      "outputs": []
    },
    {
      "cell_type": "code",
      "source": [
        "graficarDatos(X[:, 1], y)\n",
        "pyplot.plot(X[:,1], np.dot(X, theta), '-')\n",
        "pyplot.legend(['Datos de entrenamiento', 'regresion lineal'])"
      ],
      "metadata": {
        "id": "P1drC8EJuJoX"
      },
      "execution_count": null,
      "outputs": []
    },
    {
      "cell_type": "code",
      "source": [
        "y_pred = np.dot([1, 1.3], theta)\n",
        "print(y_pred)"
      ],
      "metadata": {
        "id": "YeBd0Uf6uLh3",
        "colab": {
          "base_uri": "https://localhost:8080/"
        },
        "outputId": "dd7ac15a-a659-4331-e3e9-ca7bbb4d2f6e"
      },
      "execution_count": null,
      "outputs": [
        {
          "output_type": "stream",
          "name": "stdout",
          "text": [
            "0.0\n"
          ]
        }
      ]
    }
  ]
}